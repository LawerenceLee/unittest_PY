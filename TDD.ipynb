{
 "cells": [
  {
   "cell_type": "markdown",
   "metadata": {},
   "source": [
    "# Test Driven Development\n",
    "\n",
    "## Doctest\n",
    "* doctest - A test written in a docstring.\n",
    "\n",
    "* doctest library - The built-in Python library for running doctests.\n",
    "\n",
    "### Running doctests\n",
    "\n",
    "* From the command line\n",
    "\n",
    "    * python -m doctest your_script.py\n",
    "    * -m tells python to load doctest module\n",
    "    \n",
    "\n",
    "* From inside a script\n",
    "\n",
    "```python\n",
    "import doctest\n",
    "\n",
    "doctest.testmod()\n",
    "```\n",
    "\n",
    "[doctest documentation](https://docs.python.org/3/library/doctest.html)"
   ]
  },
  {
   "cell_type": "code",
   "execution_count": null,
   "metadata": {
    "collapsed": true
   },
   "outputs": [],
   "source": [
    "# Writing Doctests for the DD game.\n",
    "\"\"\"Dungeon Game\n",
    "Explore a dungeon to find a hidden door and escape.\n",
    "But be careful of the monster the lives inside\n",
    "\n",
    "Created by: Kenneth Love, 2014\n",
    "Edited by: Zach Owens, 2017\n",
    "\"\"\"\n",
    "\n",
    "import os\n",
    "import random\n",
    "\n",
    "GAME_DIMENSIONS = (5, 5)\n",
    "player = {'location': None, 'path': []}\n",
    "\n",
    "\n",
    "def clear():\n",
    "    os.system('cls' if os.name == 'nt' else 'clear')\n",
    "\n",
    "\n",
    "def build_cells(width, height):\n",
    "    \"\"\"Creates and returns a 'width' x 'height' grid of two tuples.\n",
    "    \n",
    "    >>> cells = build_cells(2, 2)\n",
    "    >>> len(cells)\n",
    "    4\n",
    "    \n",
    "    \"\"\"\n",
    "    cells = []\n",
    "    for y in range(height):\n",
    "        for x in range(width):\n",
    "            cells.append((x, y))\n",
    "    return cells\n",
    "\n",
    "\n",
    "def get_locations(cells):\n",
    "    \"\"\"Randomly pick starting location of player, \n",
    "    monster, and door.\n",
    "    \n",
    "    >>> cells = build_cells(2, 2)\n",
    "    >>> m, d, p = get_locations(cells)\n",
    "    >>> m != d and d != p\n",
    "    True\n",
    "    >>> d in cells\n",
    "    True\n",
    "    \n",
    "    \"\"\"\n",
    "    monster = random.choice(cells)\n",
    "    door = random.choice(cells)\n",
    "    player = random.choice(cells)\n",
    "\n",
    "    if monster == door or monster == player or door == player:\n",
    "        monster, door, player = get_locations(cells)\n",
    "\n",
    "    return monster, door, player\n",
    "\n",
    "\n",
    "def get_moves(player):\n",
    "    \"\"\"Based on the tuple of the player's position, return the list of\n",
    "    acceptable moves\n",
    "    \n",
    "    >>> from dd_game import get_moves\n",
    "    >>> GAME_DIMENSION = (2,2)\n",
    "    >>> get_moves((0,2))\n",
    "    ['RIGHT', 'UP', 'DOWN']\n",
    "    \n",
    "    \"\"\"\n",
    "    x, y = player\n",
    "    moves = ['LEFT', 'RIGHT', 'UP', 'DOWN']\n",
    "    if x == 0:\n",
    "        moves.remove('LEFT')\n",
    "    if x == GAME_DIMENSIONS[0] - 1:\n",
    "        moves.remove('RIGHT')\n",
    "    if y == 0:\n",
    "        moves.remove('UP')\n",
    "    if y == GAME_DIMENSIONS[1] - 1:\n",
    "        moves.remove('DOWN')\n",
    "    return moves\n",
    "\n",
    "\n",
    "def move_player(player, move):\n",
    "    x, y = player['location']\n",
    "    player['path'].append((x, y))\n",
    "    if move == 'LEFT':\n",
    "        x -= 1\n",
    "    elif move == 'UP':\n",
    "        y -= 1\n",
    "    elif move == 'RIGHT':\n",
    "        x += 1\n",
    "    elif move == 'DOWN':\n",
    "        y += 1\n",
    "    return x, y\n",
    "\n",
    "\n",
    "def draw_map(cells):\n",
    "    print(' _'*GAME_DIMENSIONS[0])\n",
    "    row_end = GAME_DIMENSIONS[0]\n",
    "    tile = '|{}'\n",
    "    for index, cell in enumerate(cells):\n",
    "        if index % row_end < row_end - 1:\n",
    "            if cell == player['location']:\n",
    "                print(tile.format('X'), end='')\n",
    "            elif cell in player['path']:\n",
    "                print(tile.format('.'), end='')\n",
    "            else:\n",
    "                print(tile.format('_'), end='')\n",
    "        else:\n",
    "            if cell == player['location']:\n",
    "                print(tile.format('X|'))\n",
    "            elif cell in player['path']:\n",
    "                print(tile.format('.|'))\n",
    "            else:\n",
    "                print(tile.format('_|'))\n",
    "\n",
    "def play():\n",
    "    cells = build_cells(*GAME_DIMENSIONS)\n",
    "    monster, door, player['location'] = get_locations(cells)\n",
    "\n",
    "    while True:\n",
    "        clear()\n",
    "\n",
    "        print(\"WELCOME TO THE DUNGEON!\")\n",
    "        moves = get_moves(player['location'])\n",
    "\n",
    "        draw_map(cells)\n",
    "\n",
    "        print(\"\\nYou're currently in room {}\".format(player['location']))\n",
    "        print(\"\\nYou can move {}\".format(', '.join(moves)))\n",
    "        print(\"Enter QUIT to quit\")\n",
    "\n",
    "        move = input(\"> \")\n",
    "        move = move.upper()\n",
    "\n",
    "        if move in ['QUIT', 'Q']:\n",
    "            break\n",
    "\n",
    "        if move not in moves:\n",
    "            print(\"\\n** Walls are hard! Stop running into them! **\\n\")\n",
    "            continue\n",
    "\n",
    "        player['location'] = move_player(player, move)\n",
    "\n",
    "        if player['location'] == door:\n",
    "            print(\"\\n** You escaped! **\\n\")\n",
    "            break\n",
    "        elif player['location'] == monster:\n",
    "            print(\"\\n** You got eaten! **\\n\")\n",
    "            break\n",
    "\n",
    "if __name__ == '__main__':\n",
    "    play()\n",
    "\n"
   ]
  },
  {
   "cell_type": "markdown",
   "metadata": {},
   "source": [
    "## Writing Doctest using Python Shell\n",
    "\n",
    "```\n",
    ">>> from dd_game import get_moves\n",
    ">>> GAME_DIMENSION = (2,2)\n",
    ">>> get_moves((0,2))\n",
    "['RIGHT', 'UP', 'DOWN']\n",
    "```\n",
    "Manually inserted lines 2-4 into my script."
   ]
  },
  {
   "cell_type": "markdown",
   "metadata": {},
   "source": [
    "## Running Doctests with Python Shell\n",
    "* It is a good thing if it comes back with nothing."
   ]
  },
  {
   "cell_type": "code",
   "execution_count": null,
   "metadata": {
    "collapsed": true
   },
   "outputs": [],
   "source": [
    "! python -m doctest dd_game.py"
   ]
  },
  {
   "cell_type": "markdown",
   "metadata": {},
   "source": [
    "### Code Challenge\n",
    "* Add a doctest to average() that tests the function with the list [1, 2]. Because of how we test doctests, you'll need to leave a blank line at the end of your doctest before the closing quotes."
   ]
  },
  {
   "cell_type": "code",
   "execution_count": null,
   "metadata": {
    "collapsed": true
   },
   "outputs": [],
   "source": [
    "def average(num_list):\n",
    "    \"\"\"Return the average for a list of numbers\n",
    "    \n",
    "    >>> average([1,2])\n",
    "    1.5\n",
    "    \n",
    "    \"\"\"\n",
    "    return sum(num_list) / len(num_list)"
   ]
  },
  {
   "cell_type": "markdown",
   "metadata": {},
   "source": [
    "## Unittests\n",
    "* `unittest` - Python's library for writing tests\n",
    "* `TestCase` - A collection of tests\n",
    "\n",
    "### Running tests in : \n",
    "#### Command line\n",
    "* `python -m unittest tests.py`\n",
    "\n",
    "#### In a script\n",
    "* `unittest.main()`\n",
    "    * This should be inside of :  `if __name__ == '__main__':`\n",
    "\n",
    "Remember, all tests in a TestCase have to start with the word test_ to be run. You can have methods that don't start with test_ for other purposes if you need them.\n",
    "\n",
    "[`unittest` documentation](https://docs.python.org/3/library/unittest.html)\n",
    "\n",
    "Notes:\n",
    "* `assert` - Simply tests if something is `True`"
   ]
  },
  {
   "cell_type": "markdown",
   "metadata": {},
   "source": [
    "## Quantiative Assertions\n",
    "* `setUp()` - Method that is run before each test. Use this to set up state for the tests\n",
    "\n",
    "* `assertEqual(x, y)` - Make sure x and y are equal\n",
    "\n",
    "* `assertNotEqual(x, y)` - Make sure x and y are not equal\n",
    "\n",
    "* `assertGreater(x, y)` - Make sure x is greater than y\n",
    "\n",
    "* `assertLess(x, y)` - Make sure x is less than y"
   ]
  },
  {
   "cell_type": "code",
   "execution_count": null,
   "metadata": {
    "collapsed": true
   },
   "outputs": [],
   "source": [
    "# tests.py\n",
    "import unittest\n",
    "\n",
    "import moves\n",
    "\n",
    "\n",
    "class MoveTests(unittest.TestCase):\n",
    "    \n",
    "    def setUp(self):\n",
    "        self.rock = moves.Rock()\n",
    "        self.paper = moves.Paper()\n",
    "        self.scissors = moves.Scissors()\n",
    "    \n",
    "    def test_five_plus_five(self):\n",
    "        assert 5 + 5 == 10\n",
    "        \n",
    "    def test_one_plus_one(self):\n",
    "        assert not 1 + 1 == 3 \n",
    "\n",
    "    def test_equal(self):\n",
    "        self.assertEqual(self.rock, moves.Rock())\n",
    "        \n",
    "    def test_not_equal(self):\n",
    "        self.assertNotEqual(self.rock, self.paper)\n",
    "        \n",
    "    def test_rock_better_than_scissors(self):\n",
    "        self.assertGreater(self.rock, self.scissors)\n",
    "        \n",
    "    def test_paper_worse_than_scissors(self):\n",
    "        self.assertLess(self.paper, self.scissors)\n",
    "\n",
    "\n",
    "if __name__ == '__main__':\n",
    "    unittest.main()"
   ]
  },
  {
   "cell_type": "code",
   "execution_count": null,
   "metadata": {
    "collapsed": true
   },
   "outputs": [],
   "source": [
    "! python -m unittest tests.py"
   ]
  },
  {
   "cell_type": "markdown",
   "metadata": {},
   "source": [
    "### Running test from script with `unittest.main()`"
   ]
  },
  {
   "cell_type": "code",
   "execution_count": null,
   "metadata": {
    "collapsed": true
   },
   "outputs": [],
   "source": [
    "! python tests.py"
   ]
  },
  {
   "cell_type": "markdown",
   "metadata": {},
   "source": [
    "### Code Challenge\n",
    "* Import the `unittest` module.\n",
    "* Create a `TestCase` named SimpleTestCase with a simple test that `asserts` that 10 - 10 is 0. Remember, `unittest` test names have to start with `test_`.\n",
    "\n",
    "```python\n",
    "import unittest\n",
    "\n",
    "class SimpleTestCase(unittest.TestCase):\n",
    "    def test_ten_minus_ten():\n",
    "        assert 10 - 10 == 0\n",
    "```"
   ]
  },
  {
   "cell_type": "markdown",
   "metadata": {},
   "source": [
    "### Code Challenge\n",
    "* We haven't used `assertTrue` yet but I'm sure you can handle this. `assertTrue` checks that a value is truthy. Complete the first test using `assertTrue`. Provide your own good palindrome or use \"tacocat\".\n",
    "* Great! Now let's use the reverse of `assertTrue` which is `assertFalse`. Fill out test_bad_palindrome with the assertFalse assertion and a bad palindrome.\n",
    "\n",
    "```python\n",
    "import unittest\n",
    "\n",
    "from string_fun import is_palindrome\n",
    "\n",
    "\n",
    "class PalindromeTestCase(unittest.TestCase):\n",
    "    \n",
    "        def test_good_palindrome(self):\n",
    "            self.assertTrue(is_palindrome('tacocat'), is_palindrome('tacocat'[::-1]))\n",
    "\n",
    "        def test_bad_palindrome(self):\n",
    "            self.assertFalse(is_palindrome('rainbow'), is_palindrome('rainbow'[::-1]))\n",
    "```"
   ]
  },
  {
   "cell_type": "markdown",
   "metadata": {},
   "source": [
    "## Membership and Other Assertions\n",
    "* `assertIn(x, y)` - Make sure x is a member of y (this is like the `in` keyword)\n",
    "\n",
    "* `assertIsInstance(x, y)` - Make sure x is an instance of the y class\n",
    "\n",
    "* `assertGreaterEqual(x, y)` - Make sure x is greater than or equal to y\n",
    "\n",
    "* `assertLessEqual(x, y)` - Make sure x is less than or equal to y\n",
    "\n",
    "## Exceptions\n",
    "* `assertRaises(x)` - Make sure the following code raises the x exception\n",
    "* `assertWarns()` - Make sure the following code issues a warning\n",
    "* `assertLogs()` - Make sure the following code generates a log entry\n",
    "\n",
    "You can use `@unittest.expectedFailure` on tests that you know will fail\n",
    "\n",
    "Example\n",
    "\n",
    "with assertRaises(ValueError):\n",
    "    int('a')"
   ]
  },
  {
   "cell_type": "code",
   "execution_count": null,
   "metadata": {
    "collapsed": true
   },
   "outputs": [],
   "source": [
    "# die_tests.py\n",
    "\n",
    "import unittest\n",
    "\n",
    "import dice\n",
    "\n",
    "\n",
    "class DieTests(unittest.TestCase):\n",
    "    \n",
    "    def setUp(self):\n",
    "        self.d6 = dice.Die(6)\n",
    "        self.d8 = dice.Die(8)\n",
    "        \n",
    "    def test_creation(self):\n",
    "        self.assertEqual(self.d6.sides, 6)\n",
    "        self.assertIn(self.d6.value, range(1,7))\n",
    "        \n",
    "    def test_add(self):\n",
    "        self.assertIsInstance(self.d6+self.d8, int)\n",
    "        \n",
    "    def test_bad_sides(self):\n",
    "        with self.assertRaises(ValueError):\n",
    "            dice.Die(1)\n",
    "        \n",
    "        \n",
    "class RollTests(unittest.TestCase):\n",
    "    \n",
    "    def setUp(self):\n",
    "        self.hand1 = dice.Roll('1d2')\n",
    "        self.hand3 = dice.Roll('3d6')\n",
    "        \n",
    "    def test_lower(self):\n",
    "        self.assertGreaterEqual(int(self.hand3), 3)\n",
    "        \n",
    "    def test_upper(self):\n",
    "        self.assertLessEqual(int(self.hand3), 18)\n",
    "        \n",
    "    def test_membership(self):\n",
    "        test_die = dice.Die(2)\n",
    "        test_die.value = self.hand1.results[0].value\n",
    "        self.assertIn(test_die, self.hand1.results)\n",
    "        \n",
    "    def test_bad_description(self):\n",
    "        with self.assertRaises(ValueError):\n",
    "            dice.Roll('2b6')\n",
    "            \n",
    "    def test_adding(self):\n",
    "        self.assertEqual(self.hand1+self.hand3,\n",
    "                         sum(self.hand1.results)+sum(self.hand3.results))\n",
    "            \n",
    "\n",
    "if __name__ == '__main__':\n",
    "    unittest.main()"
   ]
  },
  {
   "cell_type": "markdown",
   "metadata": {},
   "source": [
    "#### Ran Unittest in Python Shell"
   ]
  },
  {
   "cell_type": "code",
   "execution_count": 1,
   "metadata": {},
   "outputs": [
    {
     "name": "stdout",
     "output_type": "stream",
     "text": [
      "........\r\n",
      "----------------------------------------------------------------------\r\n",
      "Ran 8 tests in 0.001s\r\n",
      "\r\n",
      "OK\r\n"
     ]
    }
   ],
   "source": [
    "! python -m unittest die_tests.py"
   ]
  },
  {
   "cell_type": "markdown",
   "metadata": {},
   "source": [
    "### Code Challenge\n",
    "* The `get_anagrams()` function takes one or more words and returns anagrams for each of them as a list. Finish the `test_in_anagrams()` test to check that the anagrams for the string \"treehouse\" contains the word \"house\".\n",
    "* Conversely, we shouldn't see the word \"code\" in the list of anagrams for \"treehouse\". Add a new test named test_not_in_anagrams and use self.assertNotIn() to make sure \"code\" isn't in the anagrams for \"treehouse\".\n",
    "\n",
    "```python\n",
    "import unittest\n",
    "\n",
    "from string_fun import get_anagrams\n",
    "\n",
    "\n",
    "class AnagramTests(unittest.TestCase):\n",
    "\n",
    "    def test_in_anagrams(self):\n",
    "        self.assertIn('house', get_anagrams(\"treehouse\"))\n",
    "        \n",
    "    def test_not_in_anagrams(self):\n",
    "        self.assertNotIn('code', get_anagrams('treehouse'))\n",
    "```"
   ]
  },
  {
   "cell_type": "markdown",
   "metadata": {},
   "source": [
    "### Code Challenge\n",
    "* Our get_anagrams() function raises a ValueError when you pass it an empty string. Finish the test to make sure this happens. You'll want to use assertRaises.\n",
    "* Now add a new test, test_no_args that should also assertRaises(ValueError). This time, call get_anagrams() with no arguments.\n",
    "\n",
    "```python\n",
    "import unittest\n",
    "\n",
    "from string_fun import get_anagrams\n",
    "\n",
    "\n",
    "class AnagramTestCase(unittest.TestCase):\n",
    "    def test_empty_string(self):\n",
    "        with self.assertRaises(ValueError):\n",
    "            get_anagrams('')\n",
    "            \n",
    "    def test_no_args(self):\n",
    "        with self.assertRaises(ValueError):\n",
    "            get_anagrams()\n",
    "```"
   ]
  },
  {
   "cell_type": "code",
   "execution_count": null,
   "metadata": {
    "collapsed": true
   },
   "outputs": [],
   "source": []
  },
  {
   "cell_type": "markdown",
   "metadata": {},
   "source": [
    "## Using Coverage Python Library\n",
    "* Installing coverage.py\n",
    "    * `pip install coverage`\n",
    "* Using coverage.py\n",
    "    * Make sure you test file can be run from the command line without the `-m unittest` argument.\n",
    "    * `coverage run tests.py`\n",
    "* Generate a report\n",
    "    * `coverage report` or `coverage report -m` if you want the missed lines.\n",
    "\n",
    "[`coverage.py` documentation](http://nedbatchelder.com/code/coverage/)"
   ]
  },
  {
   "cell_type": "code",
   "execution_count": null,
   "metadata": {
    "collapsed": true
   },
   "outputs": [],
   "source": [
    "! coverage run die_tests.py"
   ]
  },
  {
   "cell_type": "code",
   "execution_count": null,
   "metadata": {
    "collapsed": true
   },
   "outputs": [],
   "source": [
    "! coverage report"
   ]
  },
  {
   "cell_type": "code",
   "execution_count": null,
   "metadata": {
    "collapsed": true
   },
   "outputs": [],
   "source": [
    "! coverage report -m"
   ]
  },
  {
   "cell_type": "markdown",
   "metadata": {},
   "source": [
    "## Coverage HTML Reports\n",
    "* `coverage html` will generate the HTML report. By default, it'll live in the `htmlcov/` directory.\n",
    "* To serve HTML files (and CSS, JS, etc) directly from Python, we used the `http.server` module through `python -m` http.server.\n",
    "\n",
    "[http.server documentation](https://docs.python.org/3/library/http.server.html?highlight=http.server#module-http.server)"
   ]
  },
  {
   "cell_type": "code",
   "execution_count": null,
   "metadata": {
    "collapsed": true
   },
   "outputs": [],
   "source": [
    "! coverage html"
   ]
  },
  {
   "cell_type": "code",
   "execution_count": null,
   "metadata": {
    "collapsed": true
   },
   "outputs": [],
   "source": [
    "! python -m http.server"
   ]
  },
  {
   "cell_type": "markdown",
   "metadata": {},
   "source": [
    "#### Type localhost:8000 into your browser address bar\n",
    "* Click on `/htmlcov`\n",
    "    * You are presented with a nice interface.\n",
    "    * Click on the `dice.py` to see which lines are not currently covered by a test in RED, and those that are in GREEN.\n",
    "    * You can tell coverage to ignore certain lines, those will be YELLOW."
   ]
  },
  {
   "cell_type": "code",
   "execution_count": null,
   "metadata": {
    "collapsed": true
   },
   "outputs": [],
   "source": []
  }
 ],
 "metadata": {
  "kernelspec": {
   "display_name": "Python 3",
   "language": "python",
   "name": "python3"
  },
  "language_info": {
   "codemirror_mode": {
    "name": "ipython",
    "version": 3
   },
   "file_extension": ".py",
   "mimetype": "text/x-python",
   "name": "python",
   "nbconvert_exporter": "python",
   "pygments_lexer": "ipython3",
   "version": "3.6.1"
  }
 },
 "nbformat": 4,
 "nbformat_minor": 2
}
